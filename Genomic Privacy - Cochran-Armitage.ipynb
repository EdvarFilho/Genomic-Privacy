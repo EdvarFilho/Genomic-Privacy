{
 "cells": [
  {
   "cell_type": "markdown",
   "metadata": {},
   "source": [
    "#### 1. Imports"
   ]
  },
  {
   "cell_type": "code",
   "execution_count": null,
   "metadata": {},
   "outputs": [],
   "source": [
    "import numpy as np\n",
    "import pandas as pd\n",
    "from math import e\n",
    "from scipy.stats import chi2\n",
    "from scipy.stats import laplace\n",
    "from sklearn.metrics import mean_squared_error, mean_absolute_error\n",
    "from matplotlib import pyplot as plt\n",
    "from funcoes import gradient_descent, l2_gradient, proj, min_l2_norm, gerarTabelas, mre, chi, pValue, KL, fisher, cochran"
   ]
  },
  {
   "cell_type": "markdown",
   "metadata": {},
   "source": [
    "---\n",
    "#### 2. Dataset and original values"
   ]
  },
  {
   "cell_type": "code",
   "execution_count": null,
   "metadata": {},
   "outputs": [],
   "source": [
    "dataset = pd.read_csv('dataset4.csv').values"
   ]
  },
  {
   "cell_type": "code",
   "execution_count": null,
   "metadata": {},
   "outputs": [],
   "source": [
    "N = dataset.shape[0]"
   ]
  },
  {
   "cell_type": "code",
   "execution_count": null,
   "metadata": {},
   "outputs": [],
   "source": [
    "tabsCont = gerarTabelas(dataset)"
   ]
  },
  {
   "cell_type": "code",
   "execution_count": null,
   "metadata": {},
   "outputs": [],
   "source": [
    "c = cochran(tabsCont)"
   ]
  },
  {
   "cell_type": "code",
   "execution_count": null,
   "metadata": {},
   "outputs": [],
   "source": [
    "pValor = pValue(c, 2)"
   ]
  },
  {
   "cell_type": "code",
   "execution_count": null,
   "metadata": {},
   "outputs": [],
   "source": [
    "logPValor = np.log10(pValor)"
   ]
  },
  {
   "cell_type": "code",
   "execution_count": null,
   "metadata": {},
   "outputs": [],
   "source": [
    "budgets = [0.1, 0.5, 1, 2, 5, 7, 10]"
   ]
  },
  {
   "cell_type": "markdown",
   "metadata": {},
   "source": [
    "---\n",
    "#### 3. CTPriv approach (noise in contingency table) - Geometric Mechanism"
   ]
  },
  {
   "cell_type": "code",
   "execution_count": null,
   "metadata": {},
   "outputs": [],
   "source": [
    "errosMSE = np.zeros((10, len(budgets)))\n",
    "errosMAE = np.zeros((10, len(budgets)))\n",
    "errosMRE = np.zeros((10, len(budgets)))\n",
    "divergKL = np.zeros((10, len(budgets)))"
   ]
  },
  {
   "cell_type": "code",
   "execution_count": null,
   "metadata": {
    "scrolled": true
   },
   "outputs": [],
   "source": [
    "sensibilidadeGeom = 1\n",
    "for ep in range(0, len(budgets)):\n",
    "    for i in range(0, 10):\n",
    "        tabelasRuidosas = []\n",
    "        for j in range(0, len(tabsCont)):\n",
    "            tabela = np.array(tabsCont[j])\n",
    "            p = 1 - np.exp([[-budgets[ep],-budgets[ep],-budgets[ep]],[-budgets[ep],-budgets[ep],-budgets[ep]]])\n",
    "            ruidoGeo = np.random.geometric(p, size=tabela.shape) - np.random.geometric(p, size=tabela.shape)\n",
    "            tabelaGeo = tabela + ruidoGeo\n",
    "            desired_sum = np.sum(tabelaGeo, axis=1)\n",
    "            for linha in range(0, tabelaGeo.shape[0]):\n",
    "                tabelaGeo[linha] = min_l2_norm(tabelaGeo[linha], desired_sum[linha], min_value=0)\n",
    "            tabelasRuidosas.append(tabelaGeo)\n",
    "            if((j+1)%1000==0):\n",
    "                print('SNP: ', (j+1))\n",
    "        tabelasRuidosas = np.array(tabelasRuidosas)\n",
    "        c = cochran(tabelasRuidosas)\n",
    "        p = pValue(c, 2)\n",
    "        logs = []\n",
    "        for pv in p:\n",
    "            if(pv==0):\n",
    "                logs.append(0)\n",
    "            else:\n",
    "                logs.append(np.log10(pv))\n",
    "        log = np.array(logs)\n",
    "        errosMSE[i, ep] = mean_squared_error(log, logPValor)\n",
    "        errosMAE[i, ep] = mean_absolute_error(log, logPValor)\n",
    "        errosMRE[i, ep] = mre(log, logPValor)\n",
    "        divergKL[i, ep] = KL(logPValor, log)\n",
    "    print('Epsilon: ',budgets[ep], ' -> OK')"
   ]
  },
  {
   "cell_type": "markdown",
   "metadata": {},
   "source": [
    "---\n",
    "#### 4. Approach Yamamoto et. al. (noise in metrics) - Laplace Mechanism"
   ]
  },
  {
   "cell_type": "code",
   "execution_count": null,
   "metadata": {},
   "outputs": [],
   "source": [
    "errosMSEY = np.zeros((10, len(budgets)))\n",
    "errosMAEY = np.zeros((10, len(budgets)))\n",
    "errosMREY = np.zeros((10, len(budgets)))\n",
    "divergKLY = np.zeros((10, len(budgets)))"
   ]
  },
  {
   "cell_type": "code",
   "execution_count": null,
   "metadata": {},
   "outputs": [],
   "source": [
    "sensibilidadeY = np.log10(e)*(8*N*(N*N+6*N+4))/((N+18)*(N*N+8*N-4))\n",
    "for ep in range(0, len(budgets)):\n",
    "    for i in range(0, 10):\n",
    "        ruido = laplace.rvs(loc = 0, scale = sensibilidadeY/budgets[ep], size = logPValor.shape[0])\n",
    "        logPValorRuid = logPValor + ruido\n",
    "        min = 1\n",
    "        for j in range(0, len(tabsCont)):\n",
    "            if(logPValorRuid[i] > 0 and logPValorRuid[i] < min):\n",
    "                min = logPValorRuid[i]\n",
    "        for j in range(0, len(tabsCont)):\n",
    "            if(logPValorRuid[j] < 0):\n",
    "                logPValorRuid[j] = min\n",
    "        errosMSEY[i, ep] = mean_squared_error(logPValorRuid, logPValor)\n",
    "        errosMAEY[i, ep] = mean_absolute_error(logPValorRuid, logPValor)\n",
    "        errosMREY[i, ep] = mre(logPValorRuid, logPValor)\n",
    "        divergKLY[i, ep] = KL(-logPValor, logPValorRuid)\n",
    "    print('Epsilon: ',budgets[ep], ' -> OK')"
   ]
  },
  {
   "cell_type": "markdown",
   "metadata": {},
   "source": [
    "---\n",
    "#### 5. Comparison of errors"
   ]
  },
  {
   "cell_type": "code",
   "execution_count": null,
   "metadata": {},
   "outputs": [],
   "source": [
    "errosMSEAverage = np.average(errosMSE, axis = 0)\n",
    "errosMAEAverage = np.average(errosMAE, axis = 0)\n",
    "errosMREAverage = np.average(errosMRE, axis = 0)\n",
    "divergKLAverage = np.average(divergKL, axis = 0)"
   ]
  },
  {
   "cell_type": "code",
   "execution_count": null,
   "metadata": {},
   "outputs": [],
   "source": [
    "errosMSEYAverage = np.average(errosMSEY, axis = 0)\n",
    "errosMAEYAverage = np.average(errosMAEY, axis = 0)\n",
    "errosMREYAverage = np.average(errosMREY, axis = 0)\n",
    "divergKLYAverage = np.average(divergKLY, axis = 0)"
   ]
  },
  {
   "cell_type": "code",
   "execution_count": null,
   "metadata": {},
   "outputs": [],
   "source": [
    "plt.figure(figsize=(15,8))\n",
    "bud = ['0.1', '0.5', '1', '2', '5', '7', '10']\n",
    "plt.plot(bud, errosMSEAverage)\n",
    "plt.plot(bud, errosMSEAverage, 'x', color='blue', label='CTPriv')\n",
    "plt.plot(bud, errosMSEYAverage)\n",
    "plt.plot(bud, errosMSEYAverage, 'x', color='orange', label='Yamamoto et. al.')\n",
    "plt.legend()\n",
    "plt.xlabel('Budgets')\n",
    "plt.ylabel('MSE')\n",
    "plt.savefig('Dataset 4/MSE - Comparison - Cochran.png')"
   ]
  },
  {
   "cell_type": "code",
   "execution_count": null,
   "metadata": {},
   "outputs": [],
   "source": [
    "plt.figure(figsize=(15,8))\n",
    "plt.plot(bud, errosMAEAverage)\n",
    "plt.plot(bud, errosMAEAverage, 'x', color='blue', label='CTPriv')\n",
    "plt.plot(bud, errosMAEYAverage)\n",
    "plt.plot(bud, errosMAEYAverage, 'x', color='orange', label='Yamamoto et. al.')\n",
    "plt.legend()\n",
    "plt.xlabel('Budgets')\n",
    "plt.ylabel('MAE')\n",
    "plt.savefig('Dataset 4/MAE - Comparison - Cochran.png')"
   ]
  },
  {
   "cell_type": "code",
   "execution_count": null,
   "metadata": {
    "scrolled": false
   },
   "outputs": [],
   "source": [
    "plt.figure(figsize=(15, 8))\n",
    "plt.plot(bud, errosMREAverage)\n",
    "plt.plot(bud, errosMREAverage, 'x', color='blue', label='CTPriv')\n",
    "plt.plot(bud, errosMREYAverage)\n",
    "plt.plot(bud, errosMREYAverage, 'x', color='orange', label='Yamamoto et. al.')\n",
    "plt.legend()\n",
    "plt.xlabel('Budgets')\n",
    "plt.ylabel('MRE')\n",
    "plt.savefig('Dataset 4/MRE - Comparison - Cochran.png')"
   ]
  },
  {
   "cell_type": "code",
   "execution_count": null,
   "metadata": {},
   "outputs": [],
   "source": [
    "plt.figure(figsize=(15,8))\n",
    "plt.plot(bud, np.log10(errosMSEAverage))\n",
    "plt.plot(bud, np.log10(errosMSEAverage), 'x', color='blue', label='CTPriv')\n",
    "plt.plot(bud, np.log10(errosMSEYAverage))\n",
    "plt.plot(bud, np.log10(errosMSEYAverage), 'x', color='orange', label='Yamamoto et. al.')\n",
    "plt.legend()\n",
    "plt.xlabel('Budgets')\n",
    "plt.ylabel('MSE')\n",
    "plt.savefig('Dataset 4/MSE - Comparison - Cochran - Log.png')"
   ]
  },
  {
   "cell_type": "code",
   "execution_count": null,
   "metadata": {},
   "outputs": [],
   "source": [
    "plt.figure(figsize=(15,8))\n",
    "plt.plot(bud, np.log10(errosMAEAverage))\n",
    "plt.plot(bud, np.log10(errosMAEAverage), 'x', color='blue', label='CTPriv')\n",
    "plt.plot(bud, np.log10(errosMAEYAverage))\n",
    "plt.plot(bud, np.log10(errosMAEYAverage), 'x', color='orange', label='Yamamoto et. al.')\n",
    "plt.legend()\n",
    "plt.xlabel('Budgets')\n",
    "plt.ylabel('MAE')\n",
    "plt.savefig('Dataset 4/MAE - Comparison - Cochran - Log.png')"
   ]
  },
  {
   "cell_type": "code",
   "execution_count": null,
   "metadata": {},
   "outputs": [],
   "source": [
    "plt.figure(figsize=(15, 8))\n",
    "plt.plot(bud, np.log10(errosMREAverage))\n",
    "plt.plot(bud, np.log10(errosMREAverage), 'x', color='blue', label='CTPriv')\n",
    "plt.plot(bud, np.log10(errosMREYAverage))\n",
    "plt.plot(bud, np.log10(errosMREYAverage), 'x', color='orange', label='Yamamoto et. al.')\n",
    "plt.legend()\n",
    "plt.xlabel('Budgets')\n",
    "plt.ylabel('MRE')\n",
    "plt.savefig('Dataset 4/MRE - Comparison - Cochran - Log.png')"
   ]
  },
  {
   "cell_type": "code",
   "execution_count": null,
   "metadata": {},
   "outputs": [],
   "source": [
    "plt.figure(figsize=(15, 8))\n",
    "plt.plot(bud, divergKLAverage)\n",
    "plt.plot(bud, divergKLAverage, 'x', color='blue', label='CTPriv')\n",
    "plt.plot(bud, divergKLYAverage)\n",
    "plt.plot(bud, divergKLYAverage, 'x', color='orange', label='Yamamoto et. al.')\n",
    "plt.legend()\n",
    "plt.xlabel('Budgets')\n",
    "plt.ylabel('KL Divergence')\n",
    "plt.savefig('Dataset 4/KL - Comparison - Cochran.png')"
   ]
  },
  {
   "cell_type": "code",
   "execution_count": null,
   "metadata": {},
   "outputs": [],
   "source": [
    "with open(\"Dataset 4/Erros - Cochran.txt\", \"w\") as text_file:\n",
    "    for i in range(0, len(budgets)):\n",
    "        text_file.write('Epsilon: '+str(budgets[i])+'\\n')\n",
    "        text_file.write('   +MSE:\\n')\n",
    "        text_file.write('      ->CTPriv: '+str(errosMSEAverage[i])+'\\n')\n",
    "        text_file.write('      ->Yamamoto: '+str(errosMSEYAverage[i])+'\\n')\n",
    "        text_file.write('   +MAE:\\n')\n",
    "        text_file.write('      ->CTPriv: '+str(errosMAEAverage[i])+'\\n')\n",
    "        text_file.write('      ->Yamamoto: '+str(errosMAEYAverage[i])+'\\n')\n",
    "        text_file.write('   +MRE:\\n')\n",
    "        text_file.write('      ->CTPriv: '+str(errosMREAverage[i])+'\\n')\n",
    "        text_file.write('      ->Yamamoto: '+str(errosMREYAverage[i])+'\\n')\n",
    "        text_file.write('   +KL Divergência:\\n')\n",
    "        text_file.write('      ->CTPriv: '+str(divergKLAverage[i])+'\\n')\n",
    "        text_file.write('      ->Yamamoto: '+str(divergKLYAverage[i])+'\\n')\n",
    "text_file.close()"
   ]
  },
  {
   "cell_type": "code",
   "execution_count": null,
   "metadata": {},
   "outputs": [],
   "source": []
  }
 ],
 "metadata": {
  "kernelspec": {
   "display_name": "Python 3 (ipykernel)",
   "language": "python",
   "name": "python3"
  },
  "language_info": {
   "codemirror_mode": {
    "name": "ipython",
    "version": 3
   },
   "file_extension": ".py",
   "mimetype": "text/x-python",
   "name": "python",
   "nbconvert_exporter": "python",
   "pygments_lexer": "ipython3",
   "version": "3.9.12"
  }
 },
 "nbformat": 4,
 "nbformat_minor": 2
}
